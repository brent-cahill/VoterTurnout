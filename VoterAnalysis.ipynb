{
 "cells": [
  {
   "cell_type": "code",
   "execution_count": 93,
   "metadata": {},
   "outputs": [],
   "source": [
    "import csv\n",
    "import numpy as np\n",
    "import matplotlib.pyplot as plt\n",
    "import matplotlib.patches as mpatches\n",
    "from matplotlib.ticker import MaxNLocator\n",
    "import statistics\n",
    "%matplotlib inline"
   ]
  },
  {
   "cell_type": "code",
   "execution_count": 54,
   "metadata": {},
   "outputs": [],
   "source": [
    "# Instantiate the 3 voter question results\n",
    "pes1_2000 = []\n",
    "pes2_2000 = []\n",
    "pes3_2000 = []\n",
    "\n",
    "# Parse tsv file\n",
    "with open('ICPSR_2000/DS0001/Data.tsv') as tsvfile:\n",
    "    reader = csv.DictReader(tsvfile, dialect='excel-tab')\n",
    "    for row in reader:\n",
    "        pes1_2000.append(row['PES1'])\n",
    "        pes2_2000.append(row['PES2'])\n",
    "        pes3_2000.append(row['PES3'])\n",
    "        \n",
    "# Instatiate the dict that will hold the entire 2000 voter survey question results.\n",
    "nov_2000_data = {'tot_pop' : len(pes1_2000)}\n",
    "\n",
    "# y_ : yes\n",
    "# n_ : no\n",
    "# dk_ : don't know\n",
    "# rf_ : refused\n",
    "# nr_ : no response\n",
    "# nan_ : blank\n",
    "\n",
    "# Add to the dict\n",
    "nov_2000_data['year'] = '2000'\n",
    "nov_2000_data['y_vote'] = pes1_2000.count('1')\n",
    "nov_2000_data['n_vote'] = pes1_2000.count('2')\n",
    "nov_2000_data['dk_vote'] = pes1_2000.count('-2')\n",
    "nov_2000_data['rf_vote'] = pes1_2000.count('-3')\n",
    "nov_2000_data['nr_vote'] = pes1_2000.count('-9')\n",
    "nov_2000_data['nan_vote'] = pes1_2000.count('-1')\n",
    "nov_2000_data['y_regis'] = pes2_2000.count('1')\n",
    "nov_2000_data['n_regis'] = pes2_2000.count('2')\n",
    "nov_2000_data['dk_regis'] = pes2_2000.count('-2')\n",
    "nov_2000_data['rf_regis'] = pes2_2000.count('-3')\n",
    "nov_2000_data['nr_regis'] = pes2_2000.count('-9')\n",
    "nov_2000_data['nan_regis'] = pes2_2000.count('-1')\n",
    "nov_2000_data['ill_regis'] = pes3_2000.count('1')       # Illness or disability (own or family's)\n",
    "nov_2000_data['away_regis'] = pes3_2000.count('2')      # Out of town or away from home\n",
    "nov_2000_data['forgot_regis'] = pes3_2000.count('3')    # Forgot to vote (or send in absentee ballot)\n",
    "nov_2000_data['nwant_regis'] = pes3_2000.count('4')     # Not interested, felt my vote wouldn't make a difference\n",
    "nov_2000_data['busy_regis'] = pes3_2000.count('5')      # Too busy, conflicting work or school schedule\n",
    "nov_2000_data['transp_regis'] = pes3_2000.count('6')     # Transportation problems\n",
    "nov_2000_data['cand_regis'] = pes3_2000.count('7')      # Didn't like candidates or campaign issues\n",
    "nov_2000_data['prob_regis'] = pes3_2000.count('8')      # Registration problems (i.e., didn't recevie absentee ballot, not registered in current location)\n",
    "nov_2000_data['weather_regis'] = pes3_2000.count('9')   # Bad weather conditions\n",
    "nov_2000_data['conv_regis'] = pes3_2000.count('10')     # Inconvenient polling place or hours or lines too long\n",
    "nov_2000_data['other_regis'] = pes3_2000.count('11')    # Other\n",
    "nov_2000_data['dk_regis'] = pes3_2000.count('-2')\n",
    "nov_2000_data['rf_regis'] = pes3_2000.count('-3')\n",
    "nov_2000_data['nr_regis'] = pes3_2000.count('-9')\n",
    "nov_2000_data['nan_regis'] = pes3_2000.count('-1')"
   ]
  },
  {
   "cell_type": "code",
   "execution_count": 55,
   "metadata": {},
   "outputs": [
    {
     "name": "stdout",
     "output_type": "stream",
     "text": [
      "0.61783455228306\n"
     ]
    }
   ],
   "source": [
    "firm_response_vote = (nov_2000_data['y_vote'] + nov_2000_data['n_vote'] +\n",
    "                      nov_2000_data['nr_vote'] + nov_2000_data['rf_vote'])\n",
    "voter_turnout_2000 = nov_2000_data['y_vote'] / firm_response_vote\n",
    "print(voter_turnout_2000)"
   ]
  },
  {
   "cell_type": "code",
   "execution_count": 56,
   "metadata": {},
   "outputs": [
    {
     "name": "stdout",
     "output_type": "stream",
     "text": [
      "15649\n"
     ]
    }
   ],
   "source": [
    "firm_response_regis = (nov_2000_data['y_regis'] + nov_2000_data['n_regis'] +\n",
    "                       nov_2000_data['nr_regis'] + nov_2000_data['rf_regis'])\n",
    "print(nov_2000_data['n_regis'])"
   ]
  },
  {
   "cell_type": "code",
   "execution_count": 57,
   "metadata": {},
   "outputs": [],
   "source": [
    "# Instantiate the 3 voter question results\n",
    "pes1_2002 = []\n",
    "pes2_2002 = []\n",
    "pes3_2002 = []\n",
    "\n",
    "# Parse tsv file\n",
    "with open('ICPSR_2002/DS0001/Data.tsv') as tsvfile:\n",
    "    reader = csv.DictReader(tsvfile, dialect='excel-tab')\n",
    "    for row in reader:\n",
    "        pes1_2002.append(row['PES1'])\n",
    "        pes2_2002.append(row['PES2'])\n",
    "        pes3_2002.append(row['PES3'])\n",
    "        \n",
    "# Instatiate the dict that will hold the entire 2002 voter survey question results.\n",
    "nov_2002_data = {'tot_pop' : len(pes1_2002)}\n",
    "\n",
    "# y_ : yes\n",
    "# n_ : no\n",
    "# dk_ : don't know\n",
    "# rf_ : refused\n",
    "# nr_ : no response\n",
    "# nan_ : blank\n",
    "\n",
    "# Add to the dict\n",
    "nov_2002_data['year'] = '2002'\n",
    "nov_2002_data['y_vote'] = pes1_2002.count('1')\n",
    "nov_2002_data['n_vote'] = pes1_2002.count('2')\n",
    "nov_2002_data['dk_vote'] = pes1_2002.count('-2')\n",
    "nov_2002_data['rf_vote'] = pes1_2002.count('-3')\n",
    "nov_2002_data['nr_vote'] = pes1_2002.count('-9')\n",
    "nov_2002_data['nan_vote'] = pes1_2002.count('-1')\n",
    "nov_2002_data['y_regis'] = pes2_2002.count('1')\n",
    "nov_2002_data['n_regis'] = pes2_2002.count('2')\n",
    "nov_2002_data['dk_regis'] = pes2_2002.count('-2')\n",
    "nov_2002_data['rf_regis'] = pes2_2002.count('-3')\n",
    "nov_2002_data['nr_regis'] = pes2_2002.count('-9')\n",
    "nov_2002_data['nan_regis'] = pes2_2002.count('-1')\n",
    "nov_2002_data['ill_regis'] = pes3_2002.count('1')       # Illness or disability (own or family's)\n",
    "nov_2002_data['away_regis'] = pes3_2002.count('2')      # Out of town or away from home\n",
    "nov_2002_data['forgot_regis'] = pes3_2002.count('3')    # Forgot to vote (or send in absentee ballot)\n",
    "nov_2002_data['nwant_regis'] = pes3_2002.count('4')     # Not interested, felt my vote wouldn't make a difference\n",
    "nov_2002_data['busy_regis'] = pes3_2002.count('5')      # Too busy, conflicting work or school schedule\n",
    "nov_2002_data['transp_regis'] = pes3_2002.count('6')     # Transportation problems\n",
    "nov_2002_data['cand_regis'] = pes3_2002.count('7')      # Didn't like candidates or campaign issues\n",
    "nov_2002_data['prob_regis'] = pes3_2002.count('8')      # Registration problems (i.e., didn't recevie absentee ballot, not registered in current location)\n",
    "nov_2002_data['weather_regis'] = pes3_2002.count('9')   # Bad weather conditions\n",
    "nov_2002_data['conv_regis'] = pes3_2002.count('10')     # Inconvenient polling place or hours or lines too long\n",
    "nov_2002_data['other_regis'] = pes3_2002.count('11')    # Other\n",
    "nov_2002_data['dk_regis'] = pes3_2002.count('-2')\n",
    "nov_2002_data['rf_regis'] = pes3_2002.count('-3')\n",
    "nov_2002_data['nr_regis'] = pes3_2002.count('-9')\n",
    "nov_2002_data['nan_regis'] = pes3_2002.count('-1')"
   ]
  },
  {
   "cell_type": "markdown",
   "metadata": {},
   "source": [
    "# CHANGE IN QUESTION LABELS!"
   ]
  },
  {
   "cell_type": "code",
   "execution_count": 58,
   "metadata": {},
   "outputs": [],
   "source": [
    "# Instantiate the 3 voter question results\n",
    "pes1_2004 = []\n",
    "pes2_2004 = []\n",
    "pes3_2004 = []\n",
    "pes4_2004 = []\n",
    "\n",
    "# Parse tsv file - NOTE THAT THE PES3 HAS NOW BECOME PES4!!!!\n",
    "with open('ICPSR_2004/DS0001/Data.tsv') as tsvfile:\n",
    "    reader = csv.DictReader(tsvfile, dialect='excel-tab')\n",
    "    for row in reader:\n",
    "        pes1_2004.append(row['PES1'])\n",
    "        pes2_2004.append(row['PES2'])\n",
    "        pes3_2004.append(row['PES3'])\n",
    "        pes4_2004.append(row['PES4'])\n",
    "        \n",
    "# Instatiate the dict that will hold the entire 2004 voter survey question results.\n",
    "nov_2004_data = {'tot_pop' : len(pes1_2004)}\n",
    "\n",
    "# y_ : yes\n",
    "# n_ : no\n",
    "# dk_ : don't know\n",
    "# rf_ : refused\n",
    "# nr_ : no response\n",
    "# nan_ : blank\n",
    "\n",
    "# Add to the dict\n",
    "nov_2004_data['year'] = '2004'\n",
    "nov_2004_data['y_vote'] = pes1_2004.count('1')\n",
    "nov_2004_data['n_vote'] = pes1_2004.count('2')\n",
    "nov_2004_data['dk_vote'] = pes1_2004.count('-2')\n",
    "nov_2004_data['rf_vote'] = pes1_2004.count('-3')\n",
    "nov_2004_data['nr_vote'] = pes1_2004.count('-9')\n",
    "nov_2004_data['nan_vote'] = pes1_2004.count('-1')\n",
    "nov_2004_data['y_regis'] = pes2_2004.count('1')\n",
    "nov_2004_data['n_regis'] = pes2_2004.count('2')\n",
    "nov_2004_data['dk_regis'] = pes2_2004.count('-2')\n",
    "nov_2004_data['rf_regis'] = pes2_2004.count('-3')\n",
    "nov_2004_data['nr_regis'] = pes2_2004.count('-9')\n",
    "nov_2004_data['nan_regis'] = pes2_2004.count('-1')\n",
    "nov_2004_data['deadline_regis2'] = pes3_2004.count('1')  # Did not meet registration deadlines\n",
    "nov_2004_data['how_regis2'] = pes3_2004.count('2')       # Did not know where or how to register\n",
    "nov_2004_data['resid_regis2'] = pes3_2004.count('3')     # Did not meet residency requirements/did not live here long enough\n",
    "nov_2004_data['permill_regis2'] = pes3_2004.count('4')   # Permanent illness or disability\n",
    "nov_2004_data['eng_regis2'] = pes3_2004.count('5')       # Difficulty with English\n",
    "nov_2004_data['inter_regis2'] = pes3_2004.count('6')     # Not interested in the election or not involved in politics\n",
    "nov_2004_data['diff_regis2'] = pes3_2004.count('7')      # My vote would not make a difference\n",
    "nov_2004_data['elig_regis2'] = pes3_2004.count('8')      # Not eligible to vote\n",
    "nov_2004_data['other_regis2'] = pes3_2004.count('9')     # Other reason\n",
    "nov_2004_data['dk_regis2'] = pes3_2004.count('-2')\n",
    "nov_2004_data['rf_regis2'] = pes3_2004.count('-3')\n",
    "nov_2004_data['nr_regis2'] = pes3_2004.count('-9')\n",
    "nov_2004_data['nan_regis2'] = pes3_2004.count('-1')\n",
    "nov_2004_data['ill_regis'] = pes4_2004.count('1')       # Illness or disability (own or family's)\n",
    "nov_2004_data['away_regis'] = pes4_2004.count('2')      # Out of town or away from home\n",
    "nov_2004_data['forgot_regis'] = pes4_2004.count('3')    # Forgot to vote (or send in absentee ballot)\n",
    "nov_2004_data['nwant_regis'] = pes4_2004.count('4')     # Not interested, felt my vote wouldn't make a difference\n",
    "nov_2004_data['busy_regis'] = pes4_2004.count('5')      # Too busy, conflicting work or school schedule\n",
    "nov_2004_data['transp_regis'] = pes4_2004.count('6')     # Transportation problems\n",
    "nov_2004_data['cand_regis'] = pes4_2004.count('7')      # Didn't like candidates or campaign issues\n",
    "nov_2004_data['prob_regis'] = pes4_2004.count('8')      # Registration problems (i.e., didn't recevie absentee ballot, not registered in current location)\n",
    "nov_2004_data['weather_regis'] = pes4_2004.count('9')   # Bad weather conditions\n",
    "nov_2004_data['conv_regis'] = pes4_2004.count('10')     # Inconvenient polling place or hours or lines too long\n",
    "nov_2004_data['other_regis'] = pes4_2004.count('11')    # Other\n",
    "nov_2004_data['dk_regis'] = pes4_2004.count('-2')\n",
    "nov_2004_data['rf_regis'] = pes4_2004.count('-3')\n",
    "nov_2004_data['nr_regis'] = pes4_2004.count('-9')\n",
    "nov_2004_data['nan_regis'] = pes4_2004.count('-1')"
   ]
  },
  {
   "cell_type": "code",
   "execution_count": 59,
   "metadata": {},
   "outputs": [],
   "source": [
    "# Instantiate the 3 voter question results\n",
    "pes1_2006 = []\n",
    "pes2_2006 = []\n",
    "pes3_2006 = []\n",
    "pes4_2006 = []\n",
    "\n",
    "# Parse tsv file - NOTE THAT THE PES3 HAS NOW BECOME PES4!!!!\n",
    "with open('ICPSR_2006/DS0001/Data.tsv') as tsvfile:\n",
    "    reader = csv.DictReader(tsvfile, dialect='excel-tab')\n",
    "    for row in reader:\n",
    "        pes1_2006.append(row['PES1'])\n",
    "        pes2_2006.append(row['PES2'])\n",
    "        pes3_2006.append(row['PES3'])\n",
    "        pes4_2006.append(row['PES4'])\n",
    "        \n",
    "# Instatiate the dict that will hold the entire 2006 voter survey question results.\n",
    "nov_2006_data = {'tot_pop' : len(pes1_2006)}\n",
    "\n",
    "# y_ : yes\n",
    "# n_ : no\n",
    "# dk_ : don't know\n",
    "# rf_ : refused\n",
    "# nr_ : no response\n",
    "# nan_ : blank\n",
    "\n",
    "# Add to the dict\n",
    "nov_2006_data['year'] = '2006'\n",
    "nov_2006_data['y_vote'] = pes1_2006.count('1')\n",
    "nov_2006_data['n_vote'] = pes1_2006.count('2')\n",
    "nov_2006_data['dk_vote'] = pes1_2006.count('-2')\n",
    "nov_2006_data['rf_vote'] = pes1_2006.count('-3')\n",
    "nov_2006_data['nr_vote'] = pes1_2006.count('-9')\n",
    "nov_2006_data['nan_vote'] = pes1_2006.count('-1')\n",
    "nov_2006_data['y_regis'] = pes2_2006.count('1')\n",
    "nov_2006_data['n_regis'] = pes2_2006.count('2')\n",
    "nov_2006_data['dk_regis'] = pes2_2006.count('-2')\n",
    "nov_2006_data['rf_regis'] = pes2_2006.count('-3')\n",
    "nov_2006_data['nr_regis'] = pes2_2006.count('-9')\n",
    "nov_2006_data['nan_regis'] = pes2_2006.count('-1')\n",
    "nov_2006_data['deadline_regis2'] = pes3_2006.count('1')  # Did not meet registration deadlines\n",
    "nov_2006_data['how_regis2'] = pes3_2006.count('2')       # Did not know where or how to register\n",
    "nov_2006_data['resid_regis2'] = pes3_2006.count('3')     # Did not meet residency requirements/did not live here long enough\n",
    "nov_2006_data['permill_regis2'] = pes3_2006.count('4')   # Permanent illness or disability\n",
    "nov_2006_data['eng_regis2'] = pes3_2006.count('5')       # Difficulty with English\n",
    "nov_2006_data['inter_regis2'] = pes3_2006.count('6')     # Not interested in the election or not involved in politics\n",
    "nov_2006_data['diff_regis2'] = pes3_2006.count('7')      # My vote would not make a difference\n",
    "nov_2006_data['elig_regis2'] = pes3_2006.count('8')      # Not eligible to vote\n",
    "nov_2006_data['other_regis2'] = pes3_2006.count('9')     # Other reason\n",
    "nov_2006_data['dk_regis2'] = pes3_2006.count('-2')\n",
    "nov_2006_data['rf_regis2'] = pes3_2006.count('-3')\n",
    "nov_2006_data['nr_regis2'] = pes3_2006.count('-9')\n",
    "nov_2006_data['nan_regis2'] = pes3_2006.count('-1')\n",
    "nov_2006_data['ill_regis'] = pes4_2006.count('1')       # Illness or disability (own or family's)\n",
    "nov_2006_data['away_regis'] = pes4_2006.count('2')      # Out of town or away from home\n",
    "nov_2006_data['forgot_regis'] = pes4_2006.count('3')    # Forgot to vote (or send in absentee ballot)\n",
    "nov_2006_data['nwant_regis'] = pes4_2006.count('4')     # Not interested, felt my vote wouldn't make a difference\n",
    "nov_2006_data['busy_regis'] = pes4_2006.count('5')      # Too busy, conflicting work or school schedule\n",
    "nov_2006_data['transp_regis'] = pes4_2006.count('6')     # Transportation problems\n",
    "nov_2006_data['cand_regis'] = pes4_2006.count('7')      # Didn't like candidates or campaign issues\n",
    "nov_2006_data['prob_regis'] = pes4_2006.count('8')      # Registration problems (i.e., didn't recevie absentee ballot, not registered in current location)\n",
    "nov_2006_data['weather_regis'] = pes4_2006.count('9')   # Bad weather conditions\n",
    "nov_2006_data['conv_regis'] = pes4_2006.count('10')     # Inconvenient polling place or hours or lines too long\n",
    "nov_2006_data['other_regis'] = pes4_2006.count('11')    # Other\n",
    "nov_2006_data['dk_regis'] = pes4_2006.count('-2')\n",
    "nov_2006_data['rf_regis'] = pes4_2006.count('-3')\n",
    "nov_2006_data['nr_regis'] = pes4_2006.count('-9')\n",
    "nov_2006_data['nan_regis'] = pes4_2006.count('-1')"
   ]
  },
  {
   "cell_type": "code",
   "execution_count": 60,
   "metadata": {},
   "outputs": [],
   "source": [
    "# Instantiate the 3 voter question results\n",
    "pes1_2008 = []\n",
    "pes2_2008 = []\n",
    "pes3_2008 = []\n",
    "pes4_2008 = []\n",
    "\n",
    "# Parse tsv file - NOTE THAT THE PES3 HAS NOW BECOME PES4!!!!\n",
    "with open('ICPSR_2008/DS0001/Data.tsv') as tsvfile:\n",
    "    reader = csv.DictReader(tsvfile, dialect='excel-tab')\n",
    "    for row in reader:\n",
    "        pes1_2008.append(row['PES1'])\n",
    "        pes2_2008.append(row['PES2'])\n",
    "        pes3_2008.append(row['PES3'])\n",
    "        pes4_2008.append(row['PES4'])\n",
    "        \n",
    "# Instatiate the dict that will hold the entire 2008 voter survey question results.\n",
    "nov_2008_data = {'tot_pop' : len(pes1_2008)}\n",
    "\n",
    "# y_ : yes\n",
    "# n_ : no\n",
    "# dk_ : don't know\n",
    "# rf_ : refused\n",
    "# nr_ : no response\n",
    "# nan_ : blank\n",
    "\n",
    "# Add to the dict\n",
    "nov_2008_data['year'] = '2008'\n",
    "nov_2008_data['y_vote'] = pes1_2008.count('1')\n",
    "nov_2008_data['n_vote'] = pes1_2008.count('2')\n",
    "nov_2008_data['dk_vote'] = pes1_2008.count('-2')\n",
    "nov_2008_data['rf_vote'] = pes1_2008.count('-3')\n",
    "nov_2008_data['nr_vote'] = pes1_2008.count('-9')\n",
    "nov_2008_data['nan_vote'] = pes1_2008.count('-1')\n",
    "nov_2008_data['y_regis'] = pes2_2008.count('1')\n",
    "nov_2008_data['n_regis'] = pes2_2008.count('2')\n",
    "nov_2008_data['dk_regis'] = pes2_2008.count('-2')\n",
    "nov_2008_data['rf_regis'] = pes2_2008.count('-3')\n",
    "nov_2008_data['nr_regis'] = pes2_2008.count('-9')\n",
    "nov_2008_data['nan_regis'] = pes2_2008.count('-1')\n",
    "nov_2008_data['deadline_regis2'] = pes3_2008.count('1')  # Did not meet registration deadlines\n",
    "nov_2008_data['how_regis2'] = pes3_2008.count('2')       # Did not know where or how to register\n",
    "nov_2008_data['resid_regis2'] = pes3_2008.count('3')     # Did not meet residency requirements/did not live here long enough\n",
    "nov_2008_data['permill_regis2'] = pes3_2008.count('4')   # Permanent illness or disability\n",
    "nov_2008_data['eng_regis2'] = pes3_2008.count('5')       # Difficulty with English\n",
    "nov_2008_data['inter_regis2'] = pes3_2008.count('6')     # Not interested in the election or not involved in politics\n",
    "nov_2008_data['diff_regis2'] = pes3_2008.count('7')      # My vote would not make a difference\n",
    "nov_2008_data['elig_regis2'] = pes3_2008.count('8')      # Not eligible to vote\n",
    "nov_2008_data['other_regis2'] = pes3_2008.count('9')     # Other reason\n",
    "nov_2008_data['dk_regis2'] = pes3_2008.count('-2')\n",
    "nov_2008_data['rf_regis2'] = pes3_2008.count('-3')\n",
    "nov_2008_data['nr_regis2'] = pes3_2008.count('-9')\n",
    "nov_2008_data['nan_regis2'] = pes3_2008.count('-1')\n",
    "nov_2008_data['ill_regis'] = pes4_2008.count('1')       # Illness or disability (own or family's)\n",
    "nov_2008_data['away_regis'] = pes4_2008.count('2')      # Out of town or away from home\n",
    "nov_2008_data['forgot_regis'] = pes4_2008.count('3')    # Forgot to vote (or send in absentee ballot)\n",
    "nov_2008_data['nwant_regis'] = pes4_2008.count('4')     # Not interested, felt my vote wouldn't make a difference\n",
    "nov_2008_data['busy_regis'] = pes4_2008.count('5')      # Too busy, conflicting work or school schedule\n",
    "nov_2008_data['transp_regis'] = pes4_2008.count('6')     # Transportation problems\n",
    "nov_2008_data['cand_regis'] = pes4_2008.count('7')      # Didn't like candidates or campaign issues\n",
    "nov_2008_data['prob_regis'] = pes4_2008.count('8')      # Registration problems (i.e., didn't recevie absentee ballot, not registered in current location)\n",
    "nov_2008_data['weather_regis'] = pes4_2008.count('9')   # Bad weather conditions\n",
    "nov_2008_data['conv_regis'] = pes4_2008.count('10')     # Inconvenient polling place or hours or lines too long\n",
    "nov_2008_data['other_regis'] = pes4_2008.count('11')    # Other\n",
    "nov_2008_data['dk_regis'] = pes4_2008.count('-2')\n",
    "nov_2008_data['rf_regis'] = pes4_2008.count('-3')\n",
    "nov_2008_data['nr_regis'] = pes4_2008.count('-9')\n",
    "nov_2008_data['nan_regis'] = pes4_2008.count('-1')"
   ]
  },
  {
   "cell_type": "code",
   "execution_count": 61,
   "metadata": {},
   "outputs": [],
   "source": [
    "# Instantiate the 3 voter question results\n",
    "pes1_2010 = []\n",
    "pes2_2010 = []\n",
    "pes3_2010 = []\n",
    "pes4_2010 = []\n",
    "\n",
    "# Parse tsv file - NOTE THAT THE PES3 HAS NOW BECOME PES4!!!!\n",
    "with open('ICPSR_2010/DS0001/Data.tsv') as tsvfile:\n",
    "    reader = csv.DictReader(tsvfile, dialect='excel-tab')\n",
    "    for row in reader:\n",
    "        pes1_2010.append(row['PES1'])\n",
    "        pes2_2010.append(row['PES2'])\n",
    "        pes3_2010.append(row['PES3'])\n",
    "        pes4_2010.append(row['PES4'])\n",
    "        \n",
    "# Instatiate the dict that will hold the entire 2010 voter survey question results.\n",
    "nov_2010_data = {'tot_pop' : len(pes1_2010)}\n",
    "\n",
    "# y_ : yes\n",
    "# n_ : no\n",
    "# dk_ : don't know\n",
    "# rf_ : refused\n",
    "# nr_ : no response\n",
    "# nan_ : blank\n",
    "\n",
    "# Add to the dict\n",
    "nov_2010_data['year'] = '2010'\n",
    "nov_2010_data['y_vote'] = pes1_2010.count('1')\n",
    "nov_2010_data['n_vote'] = pes1_2010.count('2')\n",
    "nov_2010_data['dk_vote'] = pes1_2010.count('-2')\n",
    "nov_2010_data['rf_vote'] = pes1_2010.count('-3')\n",
    "nov_2010_data['nr_vote'] = pes1_2010.count('-9')\n",
    "nov_2010_data['nan_vote'] = pes1_2010.count('-1')\n",
    "nov_2010_data['y_regis'] = pes2_2010.count('1')\n",
    "nov_2010_data['n_regis'] = pes2_2010.count('2')\n",
    "nov_2010_data['dk_regis'] = pes2_2010.count('-2')\n",
    "nov_2010_data['rf_regis'] = pes2_2010.count('-3')\n",
    "nov_2010_data['nr_regis'] = pes2_2010.count('-9')\n",
    "nov_2010_data['nan_regis'] = pes2_2010.count('-1')\n",
    "nov_2010_data['deadline_regis2'] = pes3_2010.count('1')  # Did not meet registration deadlines\n",
    "nov_2010_data['how_regis2'] = pes3_2010.count('2')       # Did not know where or how to register\n",
    "nov_2010_data['resid_regis2'] = pes3_2010.count('3')     # Did not meet residency requirements/did not live here long enough\n",
    "nov_2010_data['permill_regis2'] = pes3_2010.count('4')   # Permanent illness or disability\n",
    "nov_2010_data['eng_regis2'] = pes3_2010.count('5')       # Difficulty with English\n",
    "nov_2010_data['inter_regis2'] = pes3_2010.count('6')     # Not interested in the election or not involved in politics\n",
    "nov_2010_data['diff_regis2'] = pes3_2010.count('7')      # My vote would not make a difference\n",
    "nov_2010_data['elig_regis2'] = pes3_2010.count('8')      # Not eligible to vote\n",
    "nov_2010_data['other_regis2'] = pes3_2010.count('9')     # Other reason\n",
    "nov_2010_data['dk_regis2'] = pes3_2010.count('-2')\n",
    "nov_2010_data['rf_regis2'] = pes3_2010.count('-3')\n",
    "nov_2010_data['nr_regis2'] = pes3_2010.count('-9')\n",
    "nov_2010_data['nan_regis2'] = pes3_2010.count('-1')\n",
    "nov_2010_data['ill_regis'] = pes4_2010.count('1')       # Illness or disability (own or family's)\n",
    "nov_2010_data['away_regis'] = pes4_2010.count('2')      # Out of town or away from home\n",
    "nov_2010_data['forgot_regis'] = pes4_2010.count('3')    # Forgot to vote (or send in absentee ballot)\n",
    "nov_2010_data['nwant_regis'] = pes4_2010.count('4')     # Not interested, felt my vote wouldn't make a difference\n",
    "nov_2010_data['busy_regis'] = pes4_2010.count('5')      # Too busy, conflicting work or school schedule\n",
    "nov_2010_data['transp_regis'] = pes4_2010.count('6')     # Transportation problems\n",
    "nov_2010_data['cand_regis'] = pes4_2010.count('7')      # Didn't like candidates or campaign issues\n",
    "nov_2010_data['prob_regis'] = pes4_2010.count('8')      # Registration problems (i.e., didn't recevie absentee ballot, not registered in current location)\n",
    "nov_2010_data['weather_regis'] = pes4_2010.count('9')   # Bad weather conditions\n",
    "nov_2010_data['conv_regis'] = pes4_2010.count('10')     # Inconvenient polling place or hours or lines too long\n",
    "nov_2010_data['other_regis'] = pes4_2010.count('11')    # Other\n",
    "nov_2010_data['dk_regis'] = pes4_2010.count('-2')\n",
    "nov_2010_data['rf_regis'] = pes4_2010.count('-3')\n",
    "nov_2010_data['nr_regis'] = pes4_2010.count('-9')\n",
    "nov_2010_data['nan_regis'] = pes4_2010.count('-1')"
   ]
  },
  {
   "cell_type": "code",
   "execution_count": 62,
   "metadata": {},
   "outputs": [],
   "source": [
    "# Instantiate the 3 voter question results\n",
    "pes1_2012 = []\n",
    "pes2_2012 = []\n",
    "pes3_2012 = []\n",
    "pes4_2012 = []\n",
    "\n",
    "# Parse tsv file - NOTE THAT THE PES3 HAS NOW BECOME PES4!!!!\n",
    "with open('ICPSR_2012/DS0001/Data.tsv') as tsvfile:\n",
    "    reader = csv.DictReader(tsvfile, dialect='excel-tab')\n",
    "    for row in reader:\n",
    "        pes1_2012.append(row['PES1'])\n",
    "        pes2_2012.append(row['PES2'])\n",
    "        pes3_2012.append(row['PES3'])\n",
    "        pes4_2012.append(row['PES4'])\n",
    "        \n",
    "# Instatiate the dict that will hold the entire 2012 voter survey question results.\n",
    "nov_2012_data = {'tot_pop' : len(pes1_2012)}\n",
    "\n",
    "# y_ : yes\n",
    "# n_ : no\n",
    "# dk_ : don't know\n",
    "# rf_ : refused\n",
    "# nr_ : no response\n",
    "# nan_ : blank\n",
    "\n",
    "# Add to the dict\n",
    "nov_2012_data['year'] = '2012'\n",
    "nov_2012_data['y_vote'] = pes1_2012.count('1')\n",
    "nov_2012_data['n_vote'] = pes1_2012.count('2')\n",
    "nov_2012_data['dk_vote'] = pes1_2012.count('-2')\n",
    "nov_2012_data['rf_vote'] = pes1_2012.count('-3')\n",
    "nov_2012_data['nr_vote'] = pes1_2012.count('-9')\n",
    "nov_2012_data['nan_vote'] = pes1_2012.count('-1')\n",
    "nov_2012_data['y_regis'] = pes2_2012.count('1')\n",
    "nov_2012_data['n_regis'] = pes2_2012.count('2')\n",
    "nov_2012_data['dk_regis'] = pes2_2012.count('-2')\n",
    "nov_2012_data['rf_regis'] = pes2_2012.count('-3')\n",
    "nov_2012_data['nr_regis'] = pes2_2012.count('-9')\n",
    "nov_2012_data['nan_regis'] = pes2_2012.count('-1')\n",
    "nov_2012_data['deadline_regis2'] = pes3_2012.count('1')  # Did not meet registration deadlines\n",
    "nov_2012_data['how_regis2'] = pes3_2012.count('2')       # Did not know where or how to register\n",
    "nov_2012_data['resid_regis2'] = pes3_2012.count('3')     # Did not meet residency requirements/did not live here long enough\n",
    "nov_2012_data['permill_regis2'] = pes3_2012.count('4')   # Permanent illness or disability\n",
    "nov_2012_data['eng_regis2'] = pes3_2012.count('5')       # Difficulty with English\n",
    "nov_2012_data['inter_regis2'] = pes3_2012.count('6')     # Not interested in the election or not involved in politics\n",
    "nov_2012_data['diff_regis2'] = pes3_2012.count('7')      # My vote would not make a difference\n",
    "nov_2012_data['elig_regis2'] = pes3_2012.count('8')      # Not eligible to vote\n",
    "nov_2012_data['other_regis2'] = pes3_2012.count('9')     # Other reason\n",
    "nov_2012_data['dk_regis2'] = pes3_2012.count('-2')\n",
    "nov_2012_data['rf_regis2'] = pes3_2012.count('-3')\n",
    "nov_2012_data['nr_regis2'] = pes3_2012.count('-9')\n",
    "nov_2012_data['nan_regis2'] = pes3_2012.count('-1')\n",
    "nov_2012_data['ill_regis'] = pes4_2012.count('1')       # Illness or disability (own or family's)\n",
    "nov_2012_data['away_regis'] = pes4_2012.count('2')      # Out of town or away from home\n",
    "nov_2012_data['forgot_regis'] = pes4_2012.count('3')    # Forgot to vote (or send in absentee ballot)\n",
    "nov_2012_data['nwant_regis'] = pes4_2012.count('4')     # Not interested, felt my vote wouldn't make a difference\n",
    "nov_2012_data['busy_regis'] = pes4_2012.count('5')      # Too busy, conflicting work or school schedule\n",
    "nov_2012_data['transp_regis'] = pes4_2012.count('6')     # Transportation problems\n",
    "nov_2012_data['cand_regis'] = pes4_2012.count('7')      # Didn't like candidates or campaign issues\n",
    "nov_2012_data['prob_regis'] = pes4_2012.count('8')      # Registration problems (i.e., didn't recevie absentee ballot, not registered in current location)\n",
    "nov_2012_data['weather_regis'] = pes4_2012.count('9')   # Bad weather conditions\n",
    "nov_2012_data['conv_regis'] = pes4_2012.count('10')     # Inconvenient polling place or hours or lines too long\n",
    "nov_2012_data['other_regis'] = pes4_2012.count('11')    # Other\n",
    "nov_2012_data['dk_regis'] = pes4_2012.count('-2')\n",
    "nov_2012_data['rf_regis'] = pes4_2012.count('-3')\n",
    "nov_2012_data['nr_regis'] = pes4_2012.count('-9')\n",
    "nov_2012_data['nan_regis'] = pes4_2012.count('-1')"
   ]
  },
  {
   "cell_type": "code",
   "execution_count": 63,
   "metadata": {},
   "outputs": [],
   "source": [
    "# Instantiate the 3 voter question results\n",
    "pes1_2014 = []\n",
    "pes2_2014 = []\n",
    "pes3_2014 = []\n",
    "pes4_2014 = []\n",
    "\n",
    "# Parse tsv file - NOTE THAT THE PES3 HAS NOW BECOME PES4!!!!\n",
    "with open('ICPSR_2014/DS0001/Data.tsv') as tsvfile:\n",
    "    reader = csv.DictReader(tsvfile, dialect='excel-tab')\n",
    "    for row in reader:\n",
    "        pes1_2014.append(row['PES1'])\n",
    "        pes2_2014.append(row['PES2'])\n",
    "        pes3_2014.append(row['PES3'])\n",
    "        pes4_2014.append(row['PES4'])\n",
    "        \n",
    "# Instatiate the dict that will hold the entire 2014 voter survey question results.\n",
    "nov_2014_data = {'tot_pop' : len(pes1_2014)}\n",
    "\n",
    "# y_ : yes\n",
    "# n_ : no\n",
    "# dk_ : don't know\n",
    "# rf_ : refused\n",
    "# nr_ : no response\n",
    "# nan_ : blank\n",
    "\n",
    "# Add to the dict\n",
    "nov_2014_data['year'] = '2014'\n",
    "nov_2014_data['y_vote'] = pes1_2014.count('1')\n",
    "nov_2014_data['n_vote'] = pes1_2014.count('2')\n",
    "nov_2014_data['dk_vote'] = pes1_2014.count('-2')\n",
    "nov_2014_data['rf_vote'] = pes1_2014.count('-3')\n",
    "nov_2014_data['nr_vote'] = pes1_2014.count('-9')\n",
    "nov_2014_data['nan_vote'] = pes1_2014.count('-1')\n",
    "nov_2014_data['y_regis'] = pes2_2014.count('1')\n",
    "nov_2014_data['n_regis'] = pes2_2014.count('2')\n",
    "nov_2014_data['dk_regis'] = pes2_2014.count('-2')\n",
    "nov_2014_data['rf_regis'] = pes2_2014.count('-3')\n",
    "nov_2014_data['nr_regis'] = pes2_2014.count('-9')\n",
    "nov_2014_data['nan_regis'] = pes2_2014.count('-1')\n",
    "nov_2014_data['deadline_regis2'] = pes3_2014.count('1')  # Did not meet registration deadlines\n",
    "nov_2014_data['how_regis2'] = pes3_2014.count('2')       # Did not know where or how to register\n",
    "nov_2014_data['resid_regis2'] = pes3_2014.count('3')     # Did not meet residency requirements/did not live here long enough\n",
    "nov_2014_data['permill_regis2'] = pes3_2014.count('4')   # Permanent illness or disability\n",
    "nov_2014_data['eng_regis2'] = pes3_2014.count('5')       # Difficulty with English\n",
    "nov_2014_data['inter_regis2'] = pes3_2014.count('6')     # Not interested in the election or not involved in politics\n",
    "nov_2014_data['diff_regis2'] = pes3_2014.count('7')      # My vote would not make a difference\n",
    "nov_2014_data['elig_regis2'] = pes3_2014.count('8')      # Not eligible to vote\n",
    "nov_2014_data['other_regis2'] = pes3_2014.count('9')     # Other reason\n",
    "nov_2014_data['dk_regis2'] = pes3_2014.count('-2')\n",
    "nov_2014_data['rf_regis2'] = pes3_2014.count('-3')\n",
    "nov_2014_data['nr_regis2'] = pes3_2014.count('-9')\n",
    "nov_2014_data['nan_regis2'] = pes3_2014.count('-1')\n",
    "nov_2014_data['ill_regis'] = pes4_2014.count('1')       # Illness or disability (own or family's)\n",
    "nov_2014_data['away_regis'] = pes4_2014.count('2')      # Out of town or away from home\n",
    "nov_2014_data['forgot_regis'] = pes4_2014.count('3')    # Forgot to vote (or send in absentee ballot)\n",
    "nov_2014_data['nwant_regis'] = pes4_2014.count('4')     # Not interested, felt my vote wouldn't make a difference\n",
    "nov_2014_data['busy_regis'] = pes4_2014.count('5')      # Too busy, conflicting work or school schedule\n",
    "nov_2014_data['transp_regis'] = pes4_2014.count('6')     # Transportation problems\n",
    "nov_2014_data['cand_regis'] = pes4_2014.count('7')      # Didn't like candidates or campaign issues\n",
    "nov_2014_data['prob_regis'] = pes4_2014.count('8')      # Registration problems (i.e., didn't recevie absentee ballot, not registered in current location)\n",
    "nov_2014_data['weather_regis'] = pes4_2014.count('9')   # Bad weather conditions\n",
    "nov_2014_data['conv_regis'] = pes4_2014.count('10')     # Inconvenient polling place or hours or lines too long\n",
    "nov_2014_data['other_regis'] = pes4_2014.count('11')    # Other\n",
    "nov_2014_data['dk_regis'] = pes4_2014.count('-2')\n",
    "nov_2014_data['rf_regis'] = pes4_2014.count('-3')\n",
    "nov_2014_data['nr_regis'] = pes4_2014.count('-9')\n",
    "nov_2014_data['nan_regis'] = pes4_2014.count('-1')"
   ]
  },
  {
   "cell_type": "code",
   "execution_count": 64,
   "metadata": {},
   "outputs": [],
   "source": [
    "# Instantiate the 3 voter question results\n",
    "pes1_2016 = []\n",
    "pes2_2016 = []\n",
    "pes3_2016 = []\n",
    "pes4_2016 = []\n",
    "\n",
    "# Parse tsv file - NOTE THAT THE PES3 HAS NOW BECOME PES4!!!!\n",
    "with open('DF_2016/2016_DF_Data.tsv') as tsvfile:\n",
    "    reader = csv.DictReader(tsvfile, dialect='excel-tab')\n",
    "    for row in reader:\n",
    "        pes1_2016.append(row['PES1'])\n",
    "        pes2_2016.append(row['PES2'])\n",
    "        pes3_2016.append(row['PES3'])\n",
    "        pes4_2016.append(row['PES4'])\n",
    "        \n",
    "# Instatiate the dict that will hold the entire 2016 voter survey question results.\n",
    "nov_2016_data = {'tot_pop' : len(pes1_2016)}\n",
    "\n",
    "# y_ : yes\n",
    "# n_ : no\n",
    "# dk_ : don't know\n",
    "# rf_ : refused\n",
    "# nr_ : no response\n",
    "# nan_ : blank\n",
    "\n",
    "# Add to the dict\n",
    "nov_2016_data['year'] = '2016'\n",
    "nov_2016_data['y_vote'] = pes1_2016.count('1')\n",
    "nov_2016_data['n_vote'] = pes1_2016.count('2')\n",
    "nov_2016_data['dk_vote'] = pes1_2016.count('-2')\n",
    "nov_2016_data['rf_vote'] = pes1_2016.count('-3')\n",
    "nov_2016_data['nr_vote'] = pes1_2016.count('-9')\n",
    "nov_2016_data['nan_vote'] = pes1_2016.count('-1')\n",
    "nov_2016_data['y_regis'] = pes2_2016.count('1')\n",
    "nov_2016_data['n_regis'] = pes2_2016.count('2')\n",
    "nov_2016_data['dk_regis'] = pes2_2016.count('-2')\n",
    "nov_2016_data['rf_regis'] = pes2_2016.count('-3')\n",
    "nov_2016_data['nr_regis'] = pes2_2016.count('-9')\n",
    "nov_2016_data['nan_regis'] = pes2_2016.count('-1')\n",
    "nov_2016_data['deadline_regis2'] = pes3_2016.count('1')  # Did not meet registration deadlines\n",
    "nov_2016_data['how_regis2'] = pes3_2016.count('2')       # Did not know where or how to register\n",
    "nov_2016_data['resid_regis2'] = pes3_2016.count('3')     # Did not meet residency requirements/did not live here long enough\n",
    "nov_2016_data['permill_regis2'] = pes3_2016.count('4')   # Permanent illness or disability\n",
    "nov_2016_data['eng_regis2'] = pes3_2016.count('5')       # Difficulty with English\n",
    "nov_2016_data['inter_regis2'] = pes3_2016.count('6')     # Not interested in the election or not involved in politics\n",
    "nov_2016_data['diff_regis2'] = pes3_2016.count('7')      # My vote would not make a difference\n",
    "nov_2016_data['elig_regis2'] = pes3_2016.count('8')      # Not eligible to vote\n",
    "nov_2016_data['other_regis2'] = pes3_2016.count('9')     # Other reason\n",
    "nov_2016_data['dk_regis2'] = pes3_2016.count('-2')\n",
    "nov_2016_data['rf_regis2'] = pes3_2016.count('-3')\n",
    "nov_2016_data['nr_regis2'] = pes3_2016.count('-9')\n",
    "nov_2016_data['nan_regis2'] = pes3_2016.count('-1')\n",
    "nov_2016_data['ill_regis'] = pes4_2016.count('1')       # Illness or disability (own or family's)\n",
    "nov_2016_data['away_regis'] = pes4_2016.count('2')      # Out of town or away from home\n",
    "nov_2016_data['forgot_regis'] = pes4_2016.count('3')    # Forgot to vote (or send in absentee ballot)\n",
    "nov_2016_data['nwant_regis'] = pes4_2016.count('4')     # Not interested, felt my vote wouldn't make a difference\n",
    "nov_2016_data['busy_regis'] = pes4_2016.count('5')      # Too busy, conflicting work or school schedule\n",
    "nov_2016_data['transp_regis'] = pes4_2016.count('6')     # Transportation problems\n",
    "nov_2016_data['cand_regis'] = pes4_2016.count('7')      # Didn't like candidates or campaign issues\n",
    "nov_2016_data['prob_regis'] = pes4_2016.count('8')      # Registration problems (i.e., didn't recevie absentee ballot, not registered in current location)\n",
    "nov_2016_data['weather_regis'] = pes4_2016.count('9')   # Bad weather conditions\n",
    "nov_2016_data['conv_regis'] = pes4_2016.count('10')     # Inconvenient polling place or hours or lines too long\n",
    "nov_2016_data['other_regis'] = pes4_2016.count('11')    # Other\n",
    "nov_2016_data['dk_regis'] = pes4_2016.count('-2')\n",
    "nov_2016_data['rf_regis'] = pes4_2016.count('-3')\n",
    "nov_2016_data['nr_regis'] = pes4_2016.count('-9')\n",
    "nov_2016_data['nan_regis'] = pes4_2016.count('-1')"
   ]
  },
  {
   "cell_type": "code",
   "execution_count": 65,
   "metadata": {},
   "outputs": [],
   "source": [
    "# Instantiate the 3 voter question results\n",
    "pes1_2018 = []\n",
    "pes2_2018 = []\n",
    "pes3_2018 = []\n",
    "pes4_2018 = []\n",
    "\n",
    "# Parse tsv file - NOTE THAT THE PES3 HAS NOW BECOME PES4!!!!\n",
    "with open('DF_2018/2018_DF_Data.tsv') as tsvfile:\n",
    "    reader = csv.DictReader(tsvfile, dialect='excel-tab')\n",
    "    for row in reader:\n",
    "        pes1_2018.append(row['PES1'])\n",
    "        pes2_2018.append(row['PES2'])\n",
    "        pes3_2018.append(row['PES3'])\n",
    "        pes4_2018.append(row['PES4'])\n",
    "        \n",
    "# Instatiate the dict that will hold the entire 2018 voter survey question results.\n",
    "nov_2018_data = {'tot_pop' : len(pes1_2018)}\n",
    "\n",
    "# y_ : yes\n",
    "# n_ : no\n",
    "# dk_ : don't know\n",
    "# rf_ : refused\n",
    "# nr_ : no response\n",
    "# nan_ : blank\n",
    "\n",
    "# Add to the dict\n",
    "nov_2018_data['year'] = '2018'\n",
    "nov_2018_data['y_vote'] = pes1_2018.count('1')\n",
    "nov_2018_data['n_vote'] = pes1_2018.count('2')\n",
    "nov_2018_data['dk_vote'] = pes1_2018.count('-2')\n",
    "nov_2018_data['rf_vote'] = pes1_2018.count('-3')\n",
    "nov_2018_data['nr_vote'] = pes1_2018.count('-9')\n",
    "nov_2018_data['nan_vote'] = pes1_2018.count('-1')\n",
    "nov_2018_data['y_regis'] = pes2_2018.count('1')\n",
    "nov_2018_data['n_regis'] = pes2_2018.count('2')\n",
    "nov_2018_data['dk_regis'] = pes2_2018.count('-2')\n",
    "nov_2018_data['rf_regis'] = pes2_2018.count('-3')\n",
    "nov_2018_data['nr_regis'] = pes2_2018.count('-9')\n",
    "nov_2018_data['nan_regis'] = pes2_2018.count('-1')\n",
    "nov_2018_data['deadline_regis2'] = pes3_2018.count('1')  # Did not meet registration deadlines\n",
    "nov_2018_data['how_regis2'] = pes3_2018.count('2')       # Did not know where or how to register\n",
    "nov_2018_data['resid_regis2'] = pes3_2018.count('3')     # Did not meet residency requirements/did not live here long enough\n",
    "nov_2018_data['permill_regis2'] = pes3_2018.count('4')   # Permanent illness or disability\n",
    "nov_2018_data['eng_regis2'] = pes3_2018.count('5')       # Difficulty with English\n",
    "nov_2018_data['inter_regis2'] = pes3_2018.count('6')     # Not interested in the election or not involved in politics\n",
    "nov_2018_data['diff_regis2'] = pes3_2018.count('7')      # My vote would not make a difference\n",
    "nov_2018_data['elig_regis2'] = pes3_2018.count('8')      # Not eligible to vote\n",
    "nov_2018_data['other_regis2'] = pes3_2018.count('9')     # Other reason\n",
    "nov_2018_data['dk_regis2'] = pes3_2018.count('-2')\n",
    "nov_2018_data['rf_regis2'] = pes3_2018.count('-3')\n",
    "nov_2018_data['nr_regis2'] = pes3_2018.count('-9')\n",
    "nov_2018_data['nan_regis2'] = pes3_2018.count('-1')\n",
    "nov_2018_data['ill_regis'] = pes4_2018.count('1')       # Illness or disability (own or family's)\n",
    "nov_2018_data['away_regis'] = pes4_2018.count('2')      # Out of town or away from home\n",
    "nov_2018_data['forgot_regis'] = pes4_2018.count('3')    # Forgot to vote (or send in absentee ballot)\n",
    "nov_2018_data['nwant_regis'] = pes4_2018.count('4')     # Not interested, felt my vote wouldn't make a difference\n",
    "nov_2018_data['busy_regis'] = pes4_2018.count('5')      # Too busy, conflicting work or school schedule\n",
    "nov_2018_data['transp_regis'] = pes4_2018.count('6')     # Transportation problems\n",
    "nov_2018_data['cand_regis'] = pes4_2018.count('7')      # Didn't like candidates or campaign issues\n",
    "nov_2018_data['prob_regis'] = pes4_2018.count('8')      # Registration problems (i.e., didn't recevie absentee ballot, not registered in current location)\n",
    "nov_2018_data['weather_regis'] = pes4_2018.count('9')   # Bad weather conditions\n",
    "nov_2018_data['conv_regis'] = pes4_2018.count('10')     # Inconvenient polling place or hours or lines too long\n",
    "nov_2018_data['other_regis'] = pes4_2018.count('11')    # Other\n",
    "nov_2018_data['dk_regis'] = pes4_2018.count('-2')\n",
    "nov_2018_data['rf_regis'] = pes4_2018.count('-3')\n",
    "nov_2018_data['nr_regis'] = pes4_2018.count('-9')\n",
    "nov_2018_data['nan_regis'] = pes4_2018.count('-1')"
   ]
  },
  {
   "cell_type": "markdown",
   "metadata": {},
   "source": [
    "# Analysis Section"
   ]
  },
  {
   "cell_type": "code",
   "execution_count": 111,
   "metadata": {},
   "outputs": [],
   "source": [
    "years = [2000,2002,2004,2006,2008,2010,2012,2014,2016,2018]\n",
    "pres_years = [2000,2004,2008,2012,2016]\n",
    "mid_years = [2002,2006,2010,2014,2018]\n",
    "all_dat = [nov_2000_data, nov_2002_data, nov_2004_data, nov_2006_data,\n",
    "          nov_2008_data, nov_2010_data, nov_2012_data, nov_2014_data,\n",
    "          nov_2016_data, nov_2018_data]\n",
    "pres_data = [nov_2000_data, nov_2004_data, nov_2008_data, nov_2012_data,\n",
    "             nov_2016_data]\n",
    "mid_data = [nov_2002_data, nov_2006_data, nov_2010_data, nov_2014_data,\n",
    "            nov_2018_data]\n",
    "curr_year = 2000\n",
    "turnouts, pres_turnouts, mid_turnouts, regis_turnouts = [], [], [], []\n",
    "for x in all_dat:\n",
    "    turnout = x['y_vote'] / (x['y_vote'] + x['n_vote'] + x['dk_vote']\n",
    "                             + x['rf_vote'] + x['nr_vote'])\n",
    "    turnouts.append(turnout)\n",
    "    regis_turnout = x['y_vote'] / (x['y_vote'] + x['y_regis'])\n",
    "    regis_turnouts.append(regis_turnout)\n",
    "    if curr_year in pres_years:\n",
    "        pres_turnouts.append(turnout)\n",
    "    else:\n",
    "        mid_turnouts.append(turnout)\n",
    "    curr_year += 2"
   ]
  },
  {
   "cell_type": "code",
   "execution_count": 112,
   "metadata": {},
   "outputs": [
    {
     "name": "stdout",
     "output_type": "stream",
     "text": [
      "[0.6067113116902023, 0.48558364930351383, 0.6537137643594741, 0.5013550135501355, 0.6493611953226505, 0.47556470788043476, 0.6319199245050948, 0.44209334455213106, 0.624059108258524, 0.5446483904043989]\n",
      "[0.6067113116902023, 0.6537137643594741, 0.6493611953226505, 0.6319199245050948, 0.624059108258524]\n",
      "[0.48558364930351383, 0.5013550135501355, 0.47556470788043476, 0.44209334455213106, 0.5446483904043989]\n",
      "[0.8607128719687451, 0.7130288504480901, 0.8904392035023302, 0.7253117264494703, 0.8991754122938531, 0.7175552957381041, 0.874279343377294, 0.6710235872855701, 0.8751812921457514, 0.8009577623490033]\n"
     ]
    }
   ],
   "source": [
    "print(turnouts)\n",
    "print(pres_turnouts)\n",
    "print(mid_turnouts)\n",
    "print(regis_turnouts)"
   ]
  },
  {
   "cell_type": "code",
   "execution_count": 113,
   "metadata": {},
   "outputs": [
    {
     "data": {
      "image/png": "[encoded data removed]",
      "text/plain": [
       "<Figure size 1080x1080 with 4 Axes>"
      ]
     },
     "metadata": {
      "needs_background": "light"
     },
     "output_type": "display_data"
    }
   ],
   "source": [
    "f, ax = plt.subplots(4)\n",
    "ax[0].plot(years, turnouts)\n",
    "ax[0].set_xticks(years)\n",
    "ax[1].plot(pres_years, pres_turnouts)\n",
    "ax[2].plot(mid_years, mid_turnouts)\n",
    "ax[3].plot(years, regis_turnouts)\n",
    "ax[0].set_title('Turnout for all Elections', fontsize = 22)\n",
    "ax[1].set_title('Turnout for Presidential Elections', fontsize = 22)\n",
    "ax[2].set_title('Turnout for Midterm Elections', fontsize = 22)\n",
    "ax[3].set_title('Turnout for Registered Voters', fontsize = 22)\n",
    "[x.set_xlabel('Year', fontsize = 20) for x in ax]\n",
    "[x.set_ylabel('Voter Turnout', fontsize = 20) for x in ax]\n",
    "f.set_figheight(15)\n",
    "f.set_figwidth(15)\n",
    "f.tight_layout()\n",
    "plt.savefig('figures/all_turnouts')\n",
    "plt.show()"
   ]
  },
  {
   "cell_type": "code",
   "execution_count": 69,
   "metadata": {},
   "outputs": [],
   "source": [
    "num_votes = []\n",
    "curr_year = 2000\n",
    "for x in all_dat:\n",
    "    num_votes.append(x['y_vote'] + x['n_vote'])"
   ]
  },
  {
   "cell_type": "code",
   "execution_count": 70,
   "metadata": {},
   "outputs": [],
   "source": [
    "saveable_votes = []\n",
    "saveable_votes_pres = []\n",
    "saveable_votes_mid = []\n",
    "curr_year = 2000\n",
    "for x in all_dat:\n",
    "    this_votes = (x['ill_regis'] + x['away_regis'] + x['busy_regis'] + x['transp_regis'] +\n",
    "                  x['weather_regis'] + x['conv_regis'])\n",
    "    saveable_votes.append(this_votes)\n",
    "    if curr_year in pres_years:\n",
    "        saveable_votes_pres.append(this_votes)\n",
    "    else:\n",
    "        saveable_votes_mid.append(this_votes)\n",
    "    curr_year += 2"
   ]
  },
  {
   "cell_type": "code",
   "execution_count": 71,
   "metadata": {},
   "outputs": [
    {
     "name": "stdout",
     "output_type": "stream",
     "text": [
      "[74174, 89184, 86782, 83929, 80667, 79819, 82820, 82047, 80771, 73943] [4204, 10520, 3922, 9956, 3163, 8762, 3982, 10721, 3163, 6409]\n"
     ]
    }
   ],
   "source": [
    "print(num_votes, saveable_votes)"
   ]
  },
  {
   "cell_type": "code",
   "execution_count": 72,
   "metadata": {},
   "outputs": [],
   "source": [
    "percent_saved = [s / n for n, s in zip(num_votes, saveable_votes)]"
   ]
  },
  {
   "cell_type": "code",
   "execution_count": 73,
   "metadata": {},
   "outputs": [
    {
     "name": "stdout",
     "output_type": "stream",
     "text": [
      "[0.056677541995847604, 0.1179583781844277, 0.045193703763453254, 0.11862407511110581, 0.03921058177445548, 0.10977336223205002, 0.04808017387104564, 0.13066900678879179, 0.039160094588404255, 0.08667487118456108]\n"
     ]
    }
   ],
   "source": [
    "print(percent_saved)"
   ]
  },
  {
   "cell_type": "code",
   "execution_count": 74,
   "metadata": {},
   "outputs": [
    {
     "data": {
      "image/png": "[encoded data removed]",
      "text/plain": [
       "<Figure size 432x288 with 1 Axes>"
      ]
     },
     "metadata": {
      "needs_background": "light"
     },
     "output_type": "display_data"
    }
   ],
   "source": [
    "plt.bar(years, percent_saved)\n",
    "plt.xticks(years)\n",
    "plt.title('Percentage of Saveable Votes per Year Among Registered Voters')\n",
    "plt.xlabel('Year')\n",
    "plt.ylabel('Saveable Votes (%)')\n",
    "plt.savefig('figures/saveable_percentage')\n",
    "plt.show()"
   ]
  },
  {
   "cell_type": "code",
   "execution_count": 75,
   "metadata": {},
   "outputs": [
    {
     "name": "stdout",
     "output_type": "stream",
     "text": [
      "0.04566441919864125 0.11273993870018728\n"
     ]
    }
   ],
   "source": [
    "percent_saved_pres = []\n",
    "percent_saved_mid = []\n",
    "for x in range(len(percent_saved)):\n",
    "    if x % 2 == 0:\n",
    "        percent_saved_pres.append(percent_saved[x])\n",
    "    else:\n",
    "        percent_saved_mid.append(percent_saved[x])\n",
    "\n",
    "        \n",
    "mean_presidential_saved = statistics.mean(percent_saved_pres)\n",
    "mean_midterm_saved = statistics.mean(percent_saved_mid)\n",
    "print(mean_presidential_saved, mean_midterm_saved)"
   ]
  },
  {
   "cell_type": "code",
   "execution_count": 76,
   "metadata": {},
   "outputs": [
    {
     "name": "stdout",
     "output_type": "stream",
     "text": [
      "2000\n",
      "2002\n",
      "2004: 2647\n",
      "2006: 2944\n",
      "2008: 2401\n",
      "2010: 2565\n",
      "2012: 2299\n",
      "2014: 2886\n",
      "2016: 2306\n",
      "2018: 2259\n",
      "0.17384344074238947\n"
     ]
    }
   ],
   "source": [
    "summ = 0\n",
    "tot_v = 0\n",
    "for x in all_dat:\n",
    "    try:\n",
    "        tot_v += (x['deadline_regis2'] + x['how_regis2'] + x['resid_regis2']\n",
    "              + x['permill_regis2'] + x['eng_regis2'] + x['inter_regis2']\n",
    "              + x['diff_regis2'] + x['elig_regis2'] + x['other_regis2'])\n",
    "    except:\n",
    "        tot_v += 0\n",
    "for x in all_dat:\n",
    "    try:\n",
    "        s = x['other_regis2']\n",
    "        print(x['year'] + ': ' + str(s))\n",
    "        summ += s\n",
    "    except:\n",
    "        print(x['year'])\n",
    "print(summ /tot_v)"
   ]
  },
  {
   "cell_type": "code",
   "execution_count": 77,
   "metadata": {},
   "outputs": [
    {
     "name": "stdout",
     "output_type": "stream",
     "text": [
      "[58103, 67174, 70810, 65041, 66700, 62437, 68167, 63424, 66881, 60349] [50010, 47897, 63052, 47175, 59975, 44802, 59597, 42559, 58533, 48337]\n"
     ]
    }
   ],
   "source": [
    "registered = []\n",
    "voted = []\n",
    "for x in all_dat:\n",
    "    registered.append(x['y_vote'] + x['y_regis'])\n",
    "    voted.append(x['y_vote'])\n",
    "    \n",
    "print(registered, voted)"
   ]
  },
  {
   "cell_type": "code",
   "execution_count": 78,
   "metadata": {},
   "outputs": [],
   "source": [
    "registered_voted = [v / r for v, r in zip(voted, registered)]"
   ]
  },
  {
   "cell_type": "code",
   "execution_count": 79,
   "metadata": {},
   "outputs": [
    {
     "name": "stdout",
     "output_type": "stream",
     "text": [
      "[0.8607128719687451, 0.7130288504480901, 0.8904392035023302, 0.7253117264494703, 0.8991754122938531, 0.7175552957381041, 0.874279343377294, 0.6710235872855701, 0.8751812921457514, 0.8009577623490033]\n"
     ]
    }
   ],
   "source": [
    "print(registered_voted)"
   ]
  },
  {
   "cell_type": "code",
   "execution_count": 80,
   "metadata": {},
   "outputs": [
    {
     "name": "stdout",
     "output_type": "stream",
     "text": [
      "0.8799576246575948 0.7255754444540475\n"
     ]
    }
   ],
   "source": [
    "registered_voted_pres = []\n",
    "registered_voted_mid = []\n",
    "for x in range(len(registered_voted)):\n",
    "    if x % 2 == 0:\n",
    "        registered_voted_pres.append(registered_voted[x])\n",
    "    else:\n",
    "        registered_voted_mid.append(registered_voted[x])\n",
    "\n",
    "        \n",
    "mean_presidential_reg_vote = statistics.mean(registered_voted_pres)\n",
    "mean_midterm_reg_vote = statistics.mean(registered_voted_mid)\n",
    "print(mean_presidential_reg_vote, mean_midterm_reg_vote)"
   ]
  },
  {
   "cell_type": "code",
   "execution_count": 81,
   "metadata": {},
   "outputs": [
    {
     "name": "stdout",
     "output_type": "stream",
     "text": [
      "[74174, 89184, 86782, 83929, 80667, 79819, 82820, 82047, 80771, 73943]\n"
     ]
    }
   ],
   "source": [
    "print(num_votes)"
   ]
  },
  {
   "cell_type": "code",
   "execution_count": 82,
   "metadata": {},
   "outputs": [
    {
     "name": "stdout",
     "output_type": "stream",
     "text": [
      "[0.8811578181033786, 0.7067299067097237, 0.8811504689912655, 0.7067283060682243, 0.8811533836637039, 0.7067239629662111, 0.8811518956773726, 0.7067290699233366, 0.8811578413044285, 0.7067335650433442]\n"
     ]
    }
   ],
   "source": [
    "avr_turnouts = []\n",
    "avr_turnouts_perc = []\n",
    "curr_year = 2000\n",
    "for x in num_votes:\n",
    "    if curr_year % 4 == 0:\n",
    "        avr_turnouts.append(round(x * 0.8811517))\n",
    "    else:\n",
    "        avr_turnouts.append(round(x * 0.7067299))\n",
    "    curr_year += 2\n",
    "        \n",
    "avr_turnouts_perc = [x / y for x, y in zip(avr_turnouts, num_votes)]\n",
    "print(avr_turnouts_perc)"
   ]
  },
  {
   "cell_type": "code",
   "execution_count": 83,
   "metadata": {},
   "outputs": [
    {
     "name": "stdout",
     "output_type": "stream",
     "text": [
      "[69563, 73549, 80390, 69271, 74243, 65172, 76959, 68706, 74335, 58667]\n"
     ]
    }
   ],
   "source": [
    "new_turnout = []\n",
    "for x, y in zip(avr_turnouts, saveable_votes):\n",
    "    new_turnout.append(x + y)\n",
    "    \n",
    "print(new_turnout)"
   ]
  },
  {
   "cell_type": "code",
   "execution_count": 84,
   "metadata": {},
   "outputs": [],
   "source": [
    "new_turnout_perc = [x / y for x, y in zip(new_turnout, num_votes)]"
   ]
  },
  {
   "cell_type": "code",
   "execution_count": 85,
   "metadata": {},
   "outputs": [
    {
     "name": "stdout",
     "output_type": "stream",
     "text": [
      "[0.9378353600992262, 0.8246882848941515, 0.9263441727547187, 0.8253523811793302, 0.9203639654381593, 0.816497325198261, 0.9292320695484183, 0.8373980767121284, 0.9203179358928328, 0.7934084362279052]\n"
     ]
    }
   ],
   "source": [
    "print(new_turnout_perc)"
   ]
  },
  {
   "cell_type": "code",
   "execution_count": 86,
   "metadata": {},
   "outputs": [
    {
     "name": "stdout",
     "output_type": "stream",
     "text": [
      "0.926818700746671 0.8194689008423552\n"
     ]
    }
   ],
   "source": [
    "new_turnout_pres = []\n",
    "new_turnout_mid = []\n",
    "for x in range(len(new_turnout_perc)):\n",
    "    if x % 2 == 0:\n",
    "        new_turnout_pres.append(new_turnout_perc[x])\n",
    "    else:\n",
    "        new_turnout_mid.append(new_turnout_perc[x])\n",
    "\n",
    "        \n",
    "mean_presidential_new_turnout = statistics.mean(new_turnout_pres)\n",
    "mean_midterm_new_turnout = statistics.mean(new_turnout_mid)\n",
    "print(mean_presidential_new_turnout, mean_midterm_new_turnout)"
   ]
  },
  {
   "cell_type": "code",
   "execution_count": 87,
   "metadata": {},
   "outputs": [
    {
     "data": {
      "image/png": "[encoded data removed]",
      "text/plain": [
       "<Figure size 432x288 with 1 Axes>"
      ]
     },
     "metadata": {
      "needs_background": "light"
     },
     "output_type": "display_data"
    }
   ],
   "source": [
    "plt.bar(years, new_turnout_perc, color='green')\n",
    "plt.bar(years, turnouts, color='gray')\n",
    "plt.xticks(years)\n",
    "plt.title('Turnout Among all Elections With and Without AVR/OV')\n",
    "plt.xlabel('Year')\n",
    "plt.ylabel('Turnout (%)')\n",
    "gray_patch = mpatches.Patch(color='gray', label='Without AVR/OV')\n",
    "green_patch = mpatches.Patch(color='green', label='With AVR/OV')\n",
    "plt.legend(handles=[green_patch, gray_patch])\n",
    "plt.savefig('figures/turnout_increase')\n",
    "plt.show()"
   ]
  },
  {
   "cell_type": "code",
   "execution_count": null,
   "metadata": {},
   "outputs": [],
   "source": []
  }
 ],
 "metadata": {
  "kernelspec": {
   "display_name": "Python 3",
   "language": "python",
   "name": "python3"
  },
  "language_info": {
   "codemirror_mode": {
    "name": "ipython",
    "version": 3
   },
   "file_extension": ".py",
   "mimetype": "text/x-python",
   "name": "python",
   "nbconvert_exporter": "python",
   "pygments_lexer": "ipython3",
   "version": "3.7.1"
  }
 },
 "nbformat": 4,
 "nbformat_minor": 2
}
